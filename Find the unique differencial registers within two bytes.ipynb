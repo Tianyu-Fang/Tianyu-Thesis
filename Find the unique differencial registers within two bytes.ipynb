{
 "cells": [
  {
   "cell_type": "code",
   "execution_count": null,
   "metadata": {},
   "outputs": [],
   "source": [
    "import csv\n",
    "import numpy as np\n",
    "import pandas as pd\n",
    "\n",
    "file_index = ['0','2', '4', '6', '8', '10', '12', '14']\n",
    "csv_path = \"./csv/byte_%s_result.csv\" % (file_index)\n",
    "with open(csv_path, mode = 'r') as f;\n",
    "    reader = csv.reader(f, delimiter=',')\n",
    "    for l in reader:\n",
    "        int_list = "
   ]
  }
 ],
 "metadata": {
  "kernelspec": {
   "display_name": "SageMath 9.3",
   "language": "sage",
   "name": "sagemath"
  },
  "language_info": {
   "codemirror_mode": {
    "name": "ipython",
    "version": 3
   },
   "file_extension": ".py",
   "mimetype": "text/x-python",
   "name": "python",
   "nbconvert_exporter": "python",
   "pygments_lexer": "ipython3",
   "version": "3.7.10"
  }
 },
 "nbformat": 4,
 "nbformat_minor": 4
}
