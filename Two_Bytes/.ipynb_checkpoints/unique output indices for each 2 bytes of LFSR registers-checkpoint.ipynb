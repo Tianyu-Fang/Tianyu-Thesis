{
 "cells": [
  {
   "cell_type": "code",
   "execution_count": 2,
   "metadata": {},
   "outputs": [
    {
     "name": "stdout",
     "output_type": "stream",
     "text": [
      "50,52,54,56,58,60,62,98,100\n",
      "44,46,48,66,68,70,72,74,114,116\n",
      "34,36,38,40,42,60,62,64,92,94,130,132,134,136,138\n",
      "44,46,48,50,52,54,56,58,76,78,80,102,104,106,112,134,136,138,140,142,144,146,148,150,152,154\n",
      "34,36,38,40,42,60,62,64,82,84,86,88,90,118,120,122,124,126,146,148,152,154,162,164\n",
      "0,34,36,38,40,42,50,52,54,56,58,66,68,70,72,74,76,78,80,82,84,86,88,90,92,94,98,100,124,126,130,132,178,180\n",
      "2,4,6,8,10,12,14,16,34,36,38,40,42,44,46,48,50,52,54,56,58,76,78,80,92,94,112,114,116,134,136,138,154,156,158,176,182,184,186,188,190,192,194,196\n",
      "18,20,22,24,26,28,30,32,50,52,54,56,58,60,62,64,66,68,70,72,74,92,94,96,108,110,128,130,132,150,152,154,170,172,174,192,198,200,202,204,206,208,210,212\n",
      "End\n"
     ]
    }
   ],
   "source": [
    "# get unique output indices for each two bytes of LFSR registers\n",
    "\n",
    "\n",
    "import csv\n",
    "import numpy as np\n",
    "import pandas as pd\n",
    "\n",
    "csv_file_path = \"../csv/output_indices.csv\"\n",
    "df = pd.read_csv(csv_file_path,  header=None, names=range(12), sep=',')\n",
    "\n",
    "output_indices_128_reg = df.values\n",
    "\n",
    "unique_byte_indices = []\n",
    "\n",
    "# total 16 bytes in 128 registers\n",
    "for byte in range(8):\n",
    "    \n",
    "    # get the starting position of the byte\n",
    "    byte_start = byte * 16\n",
    "    byte_end = byte_start + 16\n",
    "\n",
    "    # group the array by 8 rows\n",
    "    byte_indices = output_indices_128_reg[byte_start:byte_end, 0:12]\n",
    "\n",
    "    # remove the duplicated values in the array\n",
    "    unique_indices = np.unique(byte_indices,  return_counts=True)\n",
    "\n",
    "    # remove the nan values\n",
    "    no_duplicates = np.delete(\n",
    "        unique_indices[0], [i for i in range(unique_indices[1].size) if unique_indices[1][i] > 1 or np.isnan(unique_indices[0][i])])\n",
    "\n",
    "    # convert to int type\n",
    "    no_duplicates = no_duplicates.astype(int)\n",
    "\n",
    "    # print(\"Group of output indices for byte \" + str(byte) + \": \")\n",
    "    # print(np.array2string(no_duplicates, separator=', '))\n",
    "\n",
    "    # append the array into list\n",
    "    unique_byte_indices.append(no_duplicates.tolist())\n",
    "\n",
    "    \n",
    "# print 2d array with values separated by ','\n",
    "# for easier display in excel\n",
    "for byte in unique_byte_indices:\n",
    "    print(','.join(map(str, byte)))\n",
    "    # each row represents the unique (non-duplicated) ouput indices of each byte\n",
    "    \n",
    "with open('../csv/unique_output_indices_twoBytes.csv', mode='w') as csv_file:\n",
    "    reg_writer = csv.writer(\n",
    "        csv_file, delimiter=',', quotechar='\"', quoting=csv.QUOTE_MINIMAL)\n",
    "\n",
    "    for row in unique_byte_indices: \n",
    "        reg_writer.writerow(row)\n",
    "    \n",
    "    \n",
    "print(\"End\")"
   ]
  },
  {
   "cell_type": "code",
   "execution_count": null,
   "metadata": {},
   "outputs": [],
   "source": []
  }
 ],
 "metadata": {
  "kernelspec": {
   "display_name": "SageMath 9.3",
   "language": "sage",
   "name": "sagemath"
  },
  "language_info": {
   "codemirror_mode": {
    "name": "ipython",
    "version": 3
   },
   "file_extension": ".py",
   "mimetype": "text/x-python",
   "name": "python",
   "nbconvert_exporter": "python",
   "pygments_lexer": "ipython3",
   "version": "3.7.10"
  }
 },
 "nbformat": 4,
 "nbformat_minor": 4
}
