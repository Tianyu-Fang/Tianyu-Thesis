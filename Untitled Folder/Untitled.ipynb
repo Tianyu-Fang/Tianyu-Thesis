{
 "cells": [
  {
   "cell_type": "code",
   "execution_count": 7,
   "metadata": {},
   "outputs": [
    {
     "name": "stdout",
     "output_type": "stream",
     "text": [
      "[0, 0]\n"
     ]
    }
   ],
   "source": [
    "two_byte_total_index = []\n",
    "two_byte_total_index.append([])\n",
    "# two_byte_total_index.append(1)\n",
    "templist = two_byte_total_index[0]\n",
    "templist.append(2)\n",
    "two_byte_total_index.append([])\n",
    "templist = two_byte_total_index[1]\n",
    "templist.append(3)\n",
    "templist.append(4)\n",
    "print (two_byte_total_index)"
   ]
  },
  {
   "cell_type": "code",
   "execution_count": 54,
   "metadata": {},
   "outputs": [
    {
     "name": "stdout",
     "output_type": "stream",
     "text": [
      "[[1], [2]]\n",
      "1\n"
     ]
    }
   ],
   "source": [
    "# list contains total differential = 1 in 100 tests for 128 registers\n",
    "total_index = []\n",
    "total_index.append([])\n",
    "# list contains differential = 1 in 100 tests for the same register\n",
    "single_index = total_index[0]\n",
    "\n",
    "single_index.append(1)\n",
    "total_index.append([])\n",
    "single_index = total_index[1]\n",
    "\n",
    "single_index.append(2)\n",
    "print(total_index)\n",
    "print(len(single_index))"
   ]
  },
  {
   "cell_type": "code",
   "execution_count": null,
   "metadata": {},
   "outputs": [],
   "source": [
    "total_register = []\n",
    "total_keystream = []\n",
    "total_differential = []\n",
    "test_result = []\n",
    "\n",
    "for a in range(16):\n",
    "    \n",
    "    \n",
    "    for b in range(37):\n",
    "        \n",
    "        \n",
    "        for c in range(100):\n",
    "            \n",
    "            \n",
    "            for d in range(10):\n",
    "                if keystream = val_list[j]\n",
    "                    \n",
    "            \n",
    "            \n",
    "            "
   ]
  },
  {
   "cell_type": "code",
   "execution_count": null,
   "metadata": {},
   "outputs": [],
   "source": []
  },
  {
   "cell_type": "code",
   "execution_count": 45,
   "metadata": {},
   "outputs": [
    {
     "name": "stdout",
     "output_type": "stream",
     "text": [
      "[[[0, 1, 2]], [[[[]], [[[[]], [[0]]]], [[[[0]], [[0]]]]]], [[[[[[0]], [[0]]]], [[[[0]], [[0]]]], [[[[0]], [[0]]]]]], [[[[[[0]], [[0]]]], [[[[0]], [[0]]]], [[[[0]], [[0]]]]]]]\n"
     ]
    }
   ],
   "source": [
    "test_a = []\n",
    "\n",
    "\n",
    "\n",
    "f=0\n",
    "for a in range(4):\n",
    "    test_a.append([test_b])\n",
    "    test_b = []\n",
    "    for b in range(3):\n",
    "        test_b.append([test_c])\n",
    "        test_c = []\n",
    "        for c in range(2):\n",
    "            test_c.append([test_d])\n",
    "            test_d = test_c[c][]\n",
    "            for d in range(2):\n",
    "                test_d.append(d)\n",
    "print (test_a)"
   ]
  },
  {
   "cell_type": "code",
   "execution_count": 35,
   "metadata": {},
   "outputs": [
    {
     "name": "stdout",
     "output_type": "stream",
     "text": [
      "[0, 0, 0]\n",
      "[[0, 0, 0]]\n",
      "[[0, 0, 0], [0, 0, 0]]\n"
     ]
    }
   ],
   "source": [
    "result = [0]*3\n",
    "print(result)\n",
    "\n",
    "resultt = []\n",
    "resultt.append(result)\n",
    "print(resultt)\n",
    "\n",
    "resultt.append(result)\n",
    "print(resultt)\n"
   ]
  },
  {
   "cell_type": "code",
   "execution_count": 52,
   "metadata": {},
   "outputs": [
    {
     "name": "stdout",
     "output_type": "stream",
     "text": [
      "[[0, 1, 2], [0, 1, 2]]\n"
     ]
    }
   ],
   "source": [
    "aaaa = []\n",
    "for j in range(2):\n",
    "    aaaa.append([])\n",
    "    bbbb = aaaa[j]\n",
    "\n",
    "    for i in range(3):\n",
    "\n",
    "        bbbb.append(i)\n",
    "\n",
    "print(aaaa)"
   ]
  },
  {
   "cell_type": "code",
   "execution_count": 56,
   "metadata": {},
   "outputs": [
    {
     "name": "stdout",
     "output_type": "stream",
     "text": [
      "[0, 0, 0, 0]\n",
      "[0, 0, [1, 2], 0]\n"
     ]
    }
   ],
   "source": [
    "single_test = [0]*(4)\n",
    "print(single_test)\n",
    "single_test[2] = [1,2]\n",
    "print(single_test)"
   ]
  },
  {
   "cell_type": "code",
   "execution_count": 6,
   "metadata": {},
   "outputs": [
    {
     "name": "stdout",
     "output_type": "stream",
     "text": [
      "[[], [], [], [], [], [[[0, 1, 2]], [[0, 1, 2]]], [[[0, 1, 2]], [[0, 1, 2]]], [[[0, 1, 2]], [[0, 1, 2]]], [[[0, 1, 2]], [[0, 1, 2]]], [[[0, 1, 2]], [[0, 1, 2]]]]\n"
     ]
    }
   ],
   "source": [
    "total_index = [[]]*(5)\n",
    "for reg in range(5):\n",
    "    test_100 = total_index[reg]\n",
    "    for output_index in range(4): \n",
    "        for i in range(2): \n",
    "            test_100 = [[]]*(2)\n",
    "            differential = test_100[i]\n",
    "            single_test = [0]*(3)\n",
    "            j=0\n",
    "            for keystream in range(3):\n",
    "                single_test[keystream] += keystream*i   \n",
    "            differential.append(single_test)\n",
    "    \n",
    "    total_index.append(test_100)\n",
    "print(total_index)"
   ]
  },
  {
   "cell_type": "code",
   "execution_count": 59,
   "metadata": {},
   "outputs": [
    {
     "name": "stdout",
     "output_type": "stream",
     "text": [
      "[[], [], []]\n",
      "[[2, 3], [2, 3], [2, 3]]\n"
     ]
    }
   ],
   "source": [
    "a = [[]] * 3\n",
    "print(a)\n",
    "b = a[0]\n",
    "b.append(2)\n",
    "b.append(3)\n",
    "print(a)"
   ]
  },
  {
   "cell_type": "code",
   "execution_count": 64,
   "metadata": {},
   "outputs": [
    {
     "name": "stdout",
     "output_type": "stream",
     "text": [
      "[]\n",
      "[[0, 0, 0]]\n",
      "[[0, 0, 0], [1, 1, 1]]\n",
      "[[0, 0, 0], [1, 1, 1], [2, 2, 2]]\n",
      "[[0, 0, 0], [1, 1, 1], [2, 2, 2], [3, 3, 3]]\n",
      "[0, 0, 0]\n",
      "[1, 1, 1]\n",
      "[2, 2, 2]\n",
      "[3, 3, 3]\n",
      "[4, 4, 4]\n",
      "5\n",
      "[[0, 0, 0], [1, 1, 1], [2, 2, 2], [3, 3, 3], [4, 4, 4]]\n"
     ]
    }
   ],
   "source": [
    "a_times = 5\n",
    "val_list = [1,2,1,1,1]\n",
    "differential = []\n",
    "single_test = differential\n",
    "for i in range(a_times): \n",
    "#     differential.append([])\n",
    "\n",
    "    single_test = [0]*(3)\n",
    "    print(differential)\n",
    "    for keystream in range(max(val_list)+1):\n",
    "        single_test[keystream] += i\n",
    "    differential.append(single_test)\n",
    "\n",
    "for a in range(len(differential)):\n",
    "    print(differential[a])\n",
    "print(len(differential))\n",
    "print(differential)\n",
    "# print(test_100)\n",
    "# for i in range(len(test_100)) : \n",
    "#     for j in range(len(test_100[i])) : \n",
    "#         for k in range(len(test_100[i][j])):\n",
    "#             print(test_100[i][j][k], end=\" \")\n",
    "#     print()   \n"
   ]
  },
  {
   "cell_type": "code",
   "execution_count": null,
   "metadata": {},
   "outputs": [],
   "source": [
    "for i in range(len(a)) : \n",
    "    for j in range(len(a[i])) : \n",
    "        print(a[i][j], end=\" \")\n",
    "    print()   "
   ]
  },
  {
   "cell_type": "code",
   "execution_count": 66,
   "metadata": {},
   "outputs": [
    {
     "name": "stdout",
     "output_type": "stream",
     "text": [
      "[0, 0, 0]\n",
      "[1, 1, 1]\n",
      "[2, 2, 2]\n",
      "[3, 3, 3]\n",
      "[4, 4, 4]\n"
     ]
    }
   ],
   "source": [
    "\n",
    "import random\n",
    "import numpy\n",
    "import csv\n",
    "import pandas as pd\n",
    "aaa = 1\n",
    "bbb = 2\n",
    "# for i in range(10): \n",
    "#     test_100 = [[]]*(10)\n",
    "#     differential = test_100[i]\n",
    "#     single_test = [0]*(3)\n",
    "#     for keystream in range(3):\n",
    "#         single_test[keystream] += keystream*i   \n",
    "#     differential.append(single_test)\n",
    "\n",
    "\n",
    "a_times = 5\n",
    "val_list = [1,2,1,1,1]\n",
    "differential = []\n",
    "single_test = differential\n",
    "for i in range(a_times): \n",
    "#     differential.append([])\n",
    "\n",
    "    single_test = [0]*(3)\n",
    "#     print(differential)\n",
    "    for keystream in range(max(val_list)+1):\n",
    "        single_test[keystream] += i\n",
    "    differential.append(single_test)\n",
    "\n",
    "for a in range(len(differential)):\n",
    "    print(differential[a])\n",
    "\n",
    "\n",
    "# write into csv file\n",
    "csv_path = \"./all_combination/register_%s_2_byte_%s_all_combination_100tests.csv\" % (aaa, bbb)\n",
    "with open(csv_path, mode='w') as csv_file:\n",
    "    reg_writer = csv.writer(\n",
    "        csv_file, delimiter=',', quotechar='\"', quoting=csv.QUOTE_MINIMAL)\n",
    "\n",
    "        # write the header\n",
    "        # the header consists of the output indices\n",
    "#         reg_writer.writerow(val_list) \n",
    "    for row in differential: \n",
    "        reg_writer.writerow(row)"
   ]
  },
  {
   "cell_type": "code",
   "execution_count": null,
   "metadata": {},
   "outputs": [],
   "source": [
    "with open('./csv/output_indices_1000.csv', mode='w') as csv_file:\n",
    "    reg_writer = csv.writer(\n",
    "        csv_file, delimiter=',', quotechar='\"', quoting=csv.QUOTE_MINIMAL)\n",
    "\n",
    "    for row in write_to_csv: \n",
    "        reg_writer.writerow(row)"
   ]
  },
  {
   "cell_type": "code",
   "execution_count": 68,
   "metadata": {},
   "outputs": [
    {
     "name": "stdout",
     "output_type": "stream",
     "text": [
      "[[34, 38, 54, 66, 70, 86], [64, 76, 82], [36, 40, 56, 68, 72, 88], [66, 78, 84], [38, 42, 58, 70, 74, 90], [68, 80, 86], [40, 44, 60, 72, 76, 92], [34, 66, 70, 82, 88], [42, 46, 62, 74, 78, 94], [36, 68, 72, 84, 90], [44, 48, 64, 76, 80, 96], [38, 70, 74, 86, 92], [46, 50, 66, 78, 82, 98], [40, 72, 76, 88, 94], [48, 52, 68, 80, 84, 100], [42, 74, 78, 90, 96], [50, 54, 70, 82, 86, 102], [44, 76, 80, 92, 98], [52, 56, 72, 84, 88, 104], [46, 78, 82, 94, 100], [54, 58, 74, 86, 90, 106], [48, 80, 84, 96, 102], [56, 60, 76, 88, 92, 108], [50, 82, 86, 98, 104], [58, 62, 78, 90, 94, 110], [52, 84, 88, 100, 106], [60, 64, 80, 92, 96, 112], [54, 86, 90, 102, 108], [62, 66, 82, 94, 98, 114], [56, 88, 92, 104, 110], [64, 68, 84, 96, 100, 116], [58, 90, 94, 106, 112], [66, 70, 86, 98, 102, 118], [60, 92, 96, 108, 114], [68, 72, 88, 100, 104, 120], [62, 94, 98, 110, 116], [70, 74, 90, 102, 106, 122], [64, 96, 100, 112, 118], [34, 66, 72, 76, 104, 108], [82, 102, 114, 130], [36, 68, 74, 78, 106, 110], [84, 104, 116, 132], [38, 70, 76, 80, 108, 112], [86, 106, 118, 134], [40, 72, 78, 82, 110, 114], [88, 108, 120, 136], [42, 74, 80, 84, 112, 116], [90, 110, 122, 138], [44, 76, 82, 86, 114, 118], [92, 112, 124, 140], [46, 78, 84, 88, 116, 120], [94, 114, 126, 142], [48, 80, 86, 90, 118, 122], [96, 116, 128, 144], [50, 82, 88, 92, 120, 124], [98, 118, 130, 146], [52, 84, 90, 94, 122, 126], [100, 120, 132, 148], [54, 86, 92, 96, 124, 128], [102, 122, 134, 150], [56, 88, 94, 98, 126, 130], [104, 124, 136, 152], [58, 90, 96, 100, 128, 132], [106, 126, 138, 154], [60, 92, 98, 102, 130, 134], [108, 128, 140, 156], [62, 94, 100, 104, 132, 136], [110, 130, 142, 158], [64, 96, 102, 106, 134, 138], [112, 132, 144, 160], [34, 92, 104, 108, 124, 136, 140, 156], [82, 98, 114, 130, 134, 152], [36, 94, 106, 110, 126, 138, 142, 158], [84, 100, 116, 132, 136, 154], [38, 96, 108, 112, 128, 140, 144, 160], [86, 102, 118, 134, 138, 156], [40, 98, 110, 114, 130, 142, 146, 162], [88, 104, 120, 136, 140, 158], [42, 100, 112, 116, 132, 144, 148, 164], [90, 106, 122, 138, 142, 160], [44, 102, 114, 118, 134, 146, 150, 166], [34, 66, 98, 108, 128, 140, 156, 162], [46, 82, 104, 116, 136, 148, 168], [36, 68, 100, 110, 130, 142, 158, 164], [48, 84, 106, 118, 138, 150, 170], [38, 70, 102, 112, 132, 144, 160, 166], [50, 86, 108, 120, 140, 152, 172], [40, 72, 104, 114, 134, 146, 162, 168], [52, 88, 110, 122, 142, 154, 174], [42, 74, 106, 116, 136, 148, 164, 170], [54, 90, 112, 124, 144, 156, 176], [44, 76, 108, 118, 138, 150, 166, 172], [56, 92, 114, 126, 146, 158, 178], [46, 78, 110, 120, 140, 152, 168, 174], [0, 58, 94, 116, 128, 148, 160, 180], [48, 80, 112, 122, 142, 154, 170, 176], [2, 34, 60, 66, 92, 96, 98, 118, 124, 154, 162, 182], [50, 114, 160], [4, 36, 62, 68, 94, 98, 100, 120, 126, 156, 164, 184], [52, 116, 162], [6, 38, 64, 70, 96, 100, 102, 122, 128, 158, 166, 186], [54, 118, 164], [8, 40, 66, 72, 98, 102, 104, 124, 130, 160, 168, 188], [56, 120, 166], [10, 42, 68, 74, 100, 104, 106, 126, 132, 162, 170, 190], [58, 122, 168], [12, 44, 70, 76, 102, 106, 108, 128, 134, 164, 172, 192], [60, 124, 170], [14, 46, 72, 78, 104, 108, 110, 130, 136, 166, 174, 194], [62, 126, 172], [16, 48, 74, 80, 106, 110, 112, 132, 138, 168, 176, 196], [64, 128, 174], [18, 50, 76, 82, 108, 112, 114, 134, 140, 170, 178, 198], [66, 130, 176], [20, 52, 78, 84, 110, 114, 116, 136, 142, 172, 180, 200], [68, 132, 178], [22, 54, 80, 86, 112, 116, 118, 138, 144, 174, 182, 202], [70, 134, 180], [24, 56, 82, 88, 114, 118, 120, 140, 146, 176, 184, 204], [72, 136, 182], [26, 58, 84, 90, 116, 120, 122, 142, 148, 178, 186, 206], [74, 138, 184], [28, 60, 86, 92, 118, 122, 124, 144, 150, 180, 188, 208], [76, 140, 186], [30, 62, 88, 94, 120, 124, 126, 146, 152, 182, 190, 210], [78, 142, 188], [32, 64, 90, 96, 122, 126, 128, 148, 154, 184, 192, 212], [80, 144, 190]]\n"
     ]
    }
   ],
   "source": [
    "# count number of all combination equals to 1\n",
    "count = 0\n",
    "last_output_index = len(val_list) - 1\n",
    "output_indices_register = []\n",
    "with open(\"../csv/output_indices.csv\", \"r\", newline='') as f:\n",
    "    reader = csv.reader(f, delimiter=',')\n",
    "    rows = list(reader)\n",
    "    \n",
    "for l in rows:\n",
    "#     list_rows = [int(float(i) )for i in l]\n",
    "    list_rows = [int(i) for i in l]\n",
    "    output_indices_register.append(list_rows[:])       \n",
    "\n",
    "print(output_indices_register)"
   ]
  },
  {
   "cell_type": "code",
   "execution_count": null,
   "metadata": {},
   "outputs": [],
   "source": [
    "\n",
    "\n",
    "\n",
    "# write into csv file\n",
    "csv_path = \"./all_combination/test.csv\"\n",
    "with open(csv_path, mode='w') as csv_file:\n",
    "    reg_writer = csv.writer(\n",
    "        csv_file, delimiter=',', quotechar='\"', quoting=csv.QUOTE_MINIMAL)\n",
    "\n",
    "        # write the header\n",
    "        # the header consists of the output indices\n",
    "#         reg_writer.writerow(val_list) \n",
    "    for row in differential: \n",
    "        reg_writer.writerow(row)"
   ]
  },
  {
   "cell_type": "code",
   "execution_count": 93,
   "metadata": {},
   "outputs": [
    {
     "name": "stdout",
     "output_type": "stream",
     "text": [
      "[3, 5, 13, 19, 21, 29]\n",
      "[0, 16, 18, 24, 27]\n",
      "[4, 6, 14, 20, 22, 30]\n",
      "[1, 17, 19, 25, 28]\n",
      "[5, 7, 15, 21, 23, 31]\n",
      "[2, 18, 20, 26, 29]\n",
      "[6, 8, 16, 22, 24, 32]\n",
      "[3, 19, 21, 27, 30]\n",
      "[7, 9, 17, 23, 25, 33]\n",
      "[4, 20, 22, 28, 31]\n",
      "[8, 10, 18, 24, 26, 34]\n",
      "[5, 21, 23, 29, 32]\n",
      "[9, 11, 19, 25, 27, 35]\n",
      "[6, 22, 24, 30, 33]\n",
      "[10, 12, 20, 26, 28, 36]\n",
      "[7, 23, 25, 31, 34]\n",
      "[[3, 5, 13, 19, 21, 29], [0, 16, 18, 24, 27], [4, 6, 14, 20, 22, 30], [1, 17, 19, 25, 28], [5, 7, 15, 21, 23, 31], [2, 18, 20, 26, 29], [6, 8, 16, 22, 24, 32], [3, 19, 21, 27, 30], [7, 9, 17, 23, 25, 33], [4, 20, 22, 28, 31], [8, 10, 18, 24, 26, 34], [5, 21, 23, 29, 32], [9, 11, 19, 25, 27, 35], [6, 22, 24, 30, 33], [10, 12, 20, 26, 28, 36], [7, 23, 25, 31, 34]]\n",
      "6\n",
      "5\n",
      "6\n",
      "5\n",
      "6\n",
      "5\n",
      "6\n",
      "5\n",
      "6\n",
      "5\n",
      "6\n",
      "5\n",
      "6\n",
      "5\n",
      "6\n",
      "5\n"
     ]
    }
   ],
   "source": [
    "count = 0\n",
    "val_list = [44, 46, 48, 50, 52, 54, 56, 58, 60, 62, 64, 66, 68, 70, 72, 74, 76, 78, 80, 82, 84, 86, 88, 90, 92, 94, 96, 98, 100, 102, 104, 106, 108, 110, 112, 114, 116]\n",
    "index_list = []\n",
    "pair_list_2d = [[50,54,70,82,86,102], \n",
    "             [44,76,80,92,98], \n",
    "             [52,56,72,84,88,104], \n",
    "             [46,78,82,94,100], \n",
    "             [54,58,74,86,90,106], \n",
    "             [48,80,84,96,102], \n",
    "             [56,60,76,88,92,108], \n",
    "             [50,82,86,98,104], \n",
    "             [58,62,78,90,94,110],\n",
    "             [52,84,88,100,106], \n",
    "             [60,64,80,92,96,112], \n",
    "             [54,86,90,102,108], \n",
    "             [62,66,82,94,98,114], \n",
    "             [56,88,92,104,110], \n",
    "             [64,68,84,96,100,116],\n",
    "             [58,90,94,106,112]]\n",
    "# get the index of keystream combinations of 16 registers\n",
    "total_index_list = []\n",
    "for pair in range(len(pair_list_2d)):\n",
    "    i = 0\n",
    "    index_list = []\n",
    "    for match_keystream in range(len(val_list)):\n",
    "        if val_list[match_keystream] == pair_list_2d[pair][i]:\n",
    "            index_list.append(match_keystream)\n",
    "            if i < (len(pair_list_2d[pair]) -1):\n",
    "                i += 1\n",
    "    print(index_list)\n",
    "    total_index_list.append(index_list)\n",
    "print(total_index_list)\n",
    "# for a in range(16):\n",
    "#     print((len(pair_list_2d[a])))"
   ]
  },
  {
   "cell_type": "code",
   "execution_count": 109,
   "metadata": {},
   "outputs": [
    {
     "ename": "IndexError",
     "evalue": "list index out of range",
     "output_type": "error",
     "traceback": [
      "\u001b[0;31m---------------------------------------------------------------------------\u001b[0m",
      "\u001b[0;31mIndexError\u001b[0m                                Traceback (most recent call last)",
      "\u001b[0;32m<ipython-input-109-2ba3ce8f888e>\u001b[0m in \u001b[0;36m<module>\u001b[0;34m\u001b[0m\n\u001b[1;32m     20\u001b[0m         \u001b[0mk\u001b[0m \u001b[0;34m=\u001b[0m \u001b[0mInteger\u001b[0m\u001b[0;34m(\u001b[0m\u001b[0;36m0\u001b[0m\u001b[0;34m)\u001b[0m\u001b[0;34m\u001b[0m\u001b[0;34m\u001b[0m\u001b[0m\n\u001b[1;32m     21\u001b[0m         \u001b[0;32mfor\u001b[0m \u001b[0mj\u001b[0m \u001b[0;32min\u001b[0m \u001b[0mrange\u001b[0m\u001b[0;34m(\u001b[0m\u001b[0mlen\u001b[0m\u001b[0;34m(\u001b[0m\u001b[0mtotal_index_list\u001b[0m\u001b[0;34m[\u001b[0m\u001b[0ma\u001b[0m\u001b[0;34m]\u001b[0m\u001b[0;34m)\u001b[0m\u001b[0;34m)\u001b[0m\u001b[0;34m:\u001b[0m\u001b[0;34m\u001b[0m\u001b[0;34m\u001b[0m\u001b[0m\n\u001b[0;32m---> 22\u001b[0;31m             \u001b[0;32mif\u001b[0m \u001b[0mtest_result\u001b[0m\u001b[0;34m[\u001b[0m\u001b[0mtest\u001b[0m\u001b[0;34m]\u001b[0m\u001b[0;34m[\u001b[0m\u001b[0;34m(\u001b[0m\u001b[0mtotal_index_list\u001b[0m\u001b[0;34m[\u001b[0m\u001b[0ma\u001b[0m\u001b[0;34m]\u001b[0m\u001b[0;34m[\u001b[0m\u001b[0mk\u001b[0m\u001b[0;34m]\u001b[0m\u001b[0;34m)\u001b[0m\u001b[0;34m]\u001b[0m \u001b[0;34m==\u001b[0m \u001b[0mInteger\u001b[0m\u001b[0;34m(\u001b[0m\u001b[0;36m1\u001b[0m\u001b[0;34m)\u001b[0m\u001b[0;34m:\u001b[0m\u001b[0;34m\u001b[0m\u001b[0;34m\u001b[0m\u001b[0m\n\u001b[0m\u001b[1;32m     23\u001b[0m                 \u001b[0mk\u001b[0m \u001b[0;34m+=\u001b[0m \u001b[0mInteger\u001b[0m\u001b[0;34m(\u001b[0m\u001b[0;36m1\u001b[0m\u001b[0;34m)\u001b[0m\u001b[0;34m\u001b[0m\u001b[0;34m\u001b[0m\u001b[0m\n\u001b[1;32m     24\u001b[0m                 \u001b[0;32mif\u001b[0m \u001b[0mk\u001b[0m \u001b[0;34m==\u001b[0m \u001b[0;34m(\u001b[0m\u001b[0mlen\u001b[0m\u001b[0;34m(\u001b[0m\u001b[0mpair_list_2d\u001b[0m\u001b[0;34m[\u001b[0m\u001b[0ma\u001b[0m\u001b[0;34m]\u001b[0m\u001b[0;34m)\u001b[0m\u001b[0;34m)\u001b[0m\u001b[0;34m:\u001b[0m\u001b[0;34m\u001b[0m\u001b[0;34m\u001b[0m\u001b[0m\n",
      "\u001b[0;31mIndexError\u001b[0m: list index out of range"
     ]
    }
   ],
   "source": [
    "total_count = []\n",
    "# last_output_index = len(val_list) - 1\n",
    "last_output_index = 33\n",
    "\n",
    "for a in range(16):\n",
    "    count = 0\n",
    "    test_result = []\n",
    "    csv_path = \"./all_combination_01/register%s_index_%s_2_byte.csv\" % (0, last_output_index)\n",
    "\n",
    "    with open(csv_path, \"r\", newline='') as f:\n",
    "        reader = csv.reader(f, delimiter=',')\n",
    "        rows = list(reader)\n",
    "    \n",
    "    for l in rows:\n",
    "#     list_rows = [int(float(i) )for i in l]\n",
    "        list_rows = [int(i) for i in l]\n",
    "        test_result.append(list_rows[:])       \n",
    "    for test in range(100):\n",
    "        \n",
    "\n",
    "        k = 0\n",
    "        for j in range(len(total_index_list[a])):\n",
    "            if test_result[test][(total_index_list[a][k])] == 1:\n",
    "                k += 1\n",
    "                if k == (len(pair_list_2d[a])):\n",
    "                    count += 1\n",
    "                    j == (len(total_index_list[a])-1)\n",
    "    total_count.append(count)\n",
    "print(total_count)"
   ]
  },
  {
   "cell_type": "code",
   "execution_count": 104,
   "metadata": {},
   "outputs": [
    {
     "name": "stdout",
     "output_type": "stream",
     "text": [
      "3\n",
      "1\n"
     ]
    }
   ],
   "source": [
    "test_result = []\n",
    "a = 0\n",
    "csv_path = \"./all_combination/register%s_index_36_2_byte.csv\" % (a)\n",
    "\n",
    "with open(csv_path, \"r\", newline='') as f:\n",
    "    reader = csv.reader(f, delimiter=',')\n",
    "    rows = list(reader)\n",
    "    \n",
    "for l in rows:\n",
    "\n",
    "    list_rows = [int(i) for i in l]\n",
    "    test_result.append(list_rows[:])       \n",
    "k = 0        \n",
    "print(total_index_list[a][k])\n",
    "print(test_result[0][total_index_list[a][k]])"
   ]
  },
  {
   "cell_type": "code",
   "execution_count": null,
   "metadata": {},
   "outputs": [],
   "source": []
  }
 ],
 "metadata": {
  "kernelspec": {
   "display_name": "SageMath 9.3",
   "language": "sage",
   "name": "sagemath"
  },
  "language_info": {
   "codemirror_mode": {
    "name": "ipython",
    "version": 3
   },
   "file_extension": ".py",
   "mimetype": "text/x-python",
   "name": "python",
   "nbconvert_exporter": "python",
   "pygments_lexer": "ipython3",
   "version": "3.7.10"
  }
 },
 "nbformat": 4,
 "nbformat_minor": 4
}
