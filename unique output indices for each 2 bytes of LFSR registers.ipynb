{
 "cells": [
  {
   "cell_type": "code",
   "execution_count": 1,
   "metadata": {},
   "outputs": [
    {
     "ename": "ModuleNotFoundError",
     "evalue": "No module named 'pandas'",
     "output_type": "error",
     "traceback": [
      "\u001b[0;31m---------------------------------------------------------------------------\u001b[0m",
      "\u001b[0;31mModuleNotFoundError\u001b[0m                       Traceback (most recent call last)",
      "\u001b[0;32m<ipython-input-1-92d897a1080c>\u001b[0m in \u001b[0;36m<module>\u001b[0;34m\u001b[0m\n\u001b[1;32m      4\u001b[0m \u001b[0;32mimport\u001b[0m \u001b[0mcsv\u001b[0m\u001b[0;34m\u001b[0m\u001b[0;34m\u001b[0m\u001b[0m\n\u001b[1;32m      5\u001b[0m \u001b[0;32mimport\u001b[0m \u001b[0mnumpy\u001b[0m \u001b[0;32mas\u001b[0m \u001b[0mnp\u001b[0m\u001b[0;34m\u001b[0m\u001b[0;34m\u001b[0m\u001b[0m\n\u001b[0;32m----> 6\u001b[0;31m \u001b[0;32mimport\u001b[0m \u001b[0mpandas\u001b[0m \u001b[0;32mas\u001b[0m \u001b[0mpd\u001b[0m\u001b[0;34m\u001b[0m\u001b[0;34m\u001b[0m\u001b[0m\n\u001b[0m\u001b[1;32m      7\u001b[0m \u001b[0;34m\u001b[0m\u001b[0m\n\u001b[1;32m      8\u001b[0m \u001b[0mcsv_file_path\u001b[0m \u001b[0;34m=\u001b[0m \u001b[0;34m\"./csv/output_indices.csv\"\u001b[0m\u001b[0;34m\u001b[0m\u001b[0;34m\u001b[0m\u001b[0m\n",
      "\u001b[0;31mModuleNotFoundError\u001b[0m: No module named 'pandas'"
     ]
    }
   ],
   "source": [
    "# get unique output indices for each two bytes of LFSR registers\n",
    "\n",
    "\n",
    "import csv\n",
    "import numpy as np\n",
    "import pandas as pd\n",
    "\n",
    "csv_file_path = \"./csv/output_indices.csv\"\n",
    "df = pd.read_csv(csv_file_path,  header=None, names=range(12), sep=',')\n",
    "\n",
    "output_indices_128_reg = df.values\n",
    "\n",
    "unique_byte_indices = []\n",
    "\n",
    "# total 16 bytes in 128 registers\n",
    "for byte in range(8):\n",
    "    \n",
    "    # get the starting position of the byte\n",
    "    byte_start = byte * 16\n",
    "    byte_end = byte_start + 16\n",
    "\n",
    "    # group the array by 8 rows\n",
    "    byte_indices = output_indices_128_reg[byte_start:byte_end, 0:12]\n",
    "\n",
    "    # remove the duplicated values in the array\n",
    "    unique_indices = np.unique(byte_indices,  return_counts=True)\n",
    "\n",
    "    # remove the nan values\n",
    "    no_duplicates = np.delete(\n",
    "        unique_indices[0], [i for i in range(unique_indices[1].size) if unique_indices[1][i] > 1 or np.isnan(unique_indices[0][i])])\n",
    "\n",
    "    # convert to int type\n",
    "    no_duplicates = no_duplicates.astype(int)\n",
    "\n",
    "    # print(\"Group of output indices for byte \" + str(byte) + \": \")\n",
    "    # print(np.array2string(no_duplicates, separator=', '))\n",
    "\n",
    "    # append the array into list\n",
    "    unique_byte_indices.append(no_duplicates.tolist())\n",
    "\n",
    "    \n",
    "# print 2d array with values separated by ','\n",
    "# for easier display in excel\n",
    "for byte in unique_byte_indices:\n",
    "    print(','.join(map(str, byte)))\n",
    "    # each row represents the unique (non-duplicated) ouput indices of each byte\n",
    "    \n",
    "with open('./csv/unique_output_indices_twoBytes.csv', mode='w') as csv_file:\n",
    "    reg_writer = csv.writer(\n",
    "        csv_file, delimiter=',', quotechar='\"', quoting=csv.QUOTE_MINIMAL)\n",
    "\n",
    "    for row in unique_byte_indices: \n",
    "        reg_writer.writerow(row)\n",
    "    \n",
    "    \n",
    "print(\"End\")"
   ]
  },
  {
   "cell_type": "code",
   "execution_count": null,
   "metadata": {},
   "outputs": [],
   "source": []
  }
 ],
 "metadata": {
  "kernelspec": {
   "display_name": "SageMath 9.3",
   "language": "sage",
   "name": "sagemath"
  },
  "language_info": {
   "codemirror_mode": {
    "name": "ipython",
    "version": 3
   },
   "file_extension": ".py",
   "mimetype": "text/x-python",
   "name": "python",
   "nbconvert_exporter": "python",
   "pygments_lexer": "ipython3",
   "version": "3.7.10"
  }
 },
 "nbformat": 4,
 "nbformat_minor": 4
}
